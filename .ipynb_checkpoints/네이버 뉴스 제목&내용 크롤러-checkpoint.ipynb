{
 "cells": [
  {
   "cell_type": "code",
   "execution_count": 1,
   "id": "808fc244",
   "metadata": {},
   "outputs": [],
   "source": [
    "from selenium import webdriver\n",
    "from functools import *\n",
    "\n",
    "import tqdm\n",
    "import time\n",
    "import pandas as pd"
   ]
  },
  {
   "cell_type": "code",
   "execution_count": 2,
   "id": "e456a92c",
   "metadata": {},
   "outputs": [],
   "source": [
    "@lru_cache(maxsize = 300)\n",
    "def fetch_news_content(news_url):\n",
    "    driver.get(news_url)\n",
    "    return driver.find_elements_by_css_selector('#title_area > span')[0].text, driver.find_elements_by_css_selector('#dic_area')[0].text\n",
    "\n",
    "\n",
    "def get_news_contents(news_urls):\n",
    "    # url 리스트를 받으면 각 뉴스의 제목과 내용 크롤링\n",
    "    for news_url in tqdm.tqdm_notebook(news_urls):        \n",
    "        title, content = fetch_news_content(news_url)\n",
    "        news_titles.append(title)\n",
    "        news_contents.append(content)"
   ]
  },
  {
   "cell_type": "code",
   "execution_count": 10,
   "id": "e56b3ea6",
   "metadata": {},
   "outputs": [
    {
     "data": {
      "application/vnd.jupyter.widget-view+json": {
       "model_id": "2caeb13ae51643729911c1b8f6e2142e",
       "version_major": 2,
       "version_minor": 0
      },
      "text/plain": [
       "  0%|          | 0/2 [00:00<?, ?it/s]"
      ]
     },
     "metadata": {},
     "output_type": "display_data"
    },
    {
     "name": "stdout",
     "output_type": "stream",
     "text": [
      "url 개수: 175\n"
     ]
    },
    {
     "data": {
      "application/vnd.jupyter.widget-view+json": {
       "model_id": "a517a1ac5fe3466596543807d703929e",
       "version_major": 2,
       "version_minor": 0
      },
      "text/plain": [
       "  0%|          | 0/172 [00:00<?, ?it/s]"
      ]
     },
     "metadata": {},
     "output_type": "display_data"
    },
    {
     "name": "stdout",
     "output_type": "stream",
     "text": [
      "CacheInfo(hits=453, misses=259, maxsize=300, currsize=259)\n"
     ]
    }
   ],
   "source": [
    "if __name__ == '__main__':\n",
    "    \n",
    "    keyword = '칼부림' # 키워드 지정\n",
    "    start_date = '2023.08.03'\n",
    "    end_date = '2023.08.04'\n",
    "    # 날짜 리스트 생성\n",
    "    dates = pd.date_range(start=start_date, end=end_date).format(formatter = lambda x: x.strftime('%Y.%m.%d'))\n",
    "    \n",
    "    totalPage = 10\n",
    "    news_urls = []\n",
    "    news_titles = []\n",
    "    news_contents = []\n",
    "    \n",
    "    driver = webdriver.Chrome()\n",
    "    \n",
    "    # 2023.08.03 ~ 2023.08.04\n",
    "    for date in tqdm.tqdm_notebook(dates):\n",
    "        # 1 ~ 10 page\n",
    "        for i in range(totalPage):\n",
    "            url = f'https://search.naver.com/search.naver?where=news&sm=tab_pge&query={keyword}&sort=0&photo=0&field=0&pd=3&ds={date}&de={date}&cluster_rank=28&mynews=0&office_type=0&office_section_code=0&news_office_checked=&nso=so:r,p:from20230803to20230805,a:all&start={i}1'\n",
    "            driver.get(url)\n",
    "\n",
    "            # 네이버 뉴스 포멧으로 url 크롤링\n",
    "            link_raw = driver.find_elements_by_css_selector('a.info')\n",
    "            for link in link_raw:\n",
    "                if link.text == '네이버뉴스':\n",
    "                    news_urls.append(link.get_attribute('href'))\n",
    "    \n",
    "    print('url 개수:', len(news_urls))\n",
    "    \n",
    "    # url 중복 제거\n",
    "    news_urls = set(news_urls)\n",
    "    news_urls = list(news_urls)\n",
    "    \n",
    "    # url로 뉴스 제목, 내용 가져오기\n",
    "    get_news_contents(news_urls) \n",
    "    print(fetch_news_content.cache_info())"
   ]
  },
  {
   "cell_type": "code",
   "execution_count": 11,
   "id": "86331835",
   "metadata": {},
   "outputs": [],
   "source": [
    "# csv 저장\n",
    "df = pd.DataFrame({'title':news_titles, 'content':news_contents})\n",
    "df.to_csv(f'{keyword}_naver_news.csv', encoding = 'utf-8-sig')"
   ]
  },
  {
   "cell_type": "code",
   "execution_count": 5,
   "id": "c9fc4971",
   "metadata": {},
   "outputs": [
    {
     "name": "stdout",
     "output_type": "stream",
     "text": [
      "172\n",
      "2 신림역 사건 13일만에 또 '묻지마 칼부림'\n"
     ]
    }
   ],
   "source": [
    "# 중복 값 확인\n",
    "test = set(news_urls)\n",
    "print(len(test))\n",
    "\n",
    "\n",
    "# 링크가 다른데도 제목이 같은 뉴스가 존재했음\n",
    "count = {}\n",
    "\n",
    "for i in news_titles:\n",
    "    try:\n",
    "        count[i] += 1\n",
    "    except:\n",
    "        count[i] = 1\n",
    "        \n",
    "for k,v in count.items():\n",
    "    if v > 1:\n",
    "        print(v, k)"
   ]
  },
  {
   "cell_type": "code",
   "execution_count": 6,
   "id": "8bfc8c3c",
   "metadata": {},
   "outputs": [],
   "source": [
    "# chrome 드라이버 닫기\n",
    "driver.close()"
   ]
  }
 ],
 "metadata": {
  "kernelspec": {
   "display_name": "Python 3 (ipykernel)",
   "language": "python",
   "name": "python3"
  },
  "language_info": {
   "codemirror_mode": {
    "name": "ipython",
    "version": 3
   },
   "file_extension": ".py",
   "mimetype": "text/x-python",
   "name": "python",
   "nbconvert_exporter": "python",
   "pygments_lexer": "ipython3",
   "version": "3.9.16"
  }
 },
 "nbformat": 4,
 "nbformat_minor": 5
}
